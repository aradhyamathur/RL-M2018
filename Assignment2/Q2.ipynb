{
 "cells": [
  {
   "cell_type": "code",
   "execution_count": 2,
   "metadata": {},
   "outputs": [],
   "source": [
    "import numpy as np\n",
    "import matplotlib.pyplot as plt\n"
   ]
  },
  {
   "cell_type": "code",
   "execution_count": 3,
   "metadata": {},
   "outputs": [],
   "source": [
    "%matplotlib inline"
   ]
  },
  {
   "cell_type": "markdown",
   "metadata": {},
   "source": [
    "### ITERATIVE METHOD"
   ]
  },
  {
   "cell_type": "code",
   "execution_count": 29,
   "metadata": {},
   "outputs": [],
   "source": [
    "GRID_DIM = 5\n",
    "GRID_SIZE = GRID_DIM * GRID_DIM\n",
    "A, A_ , B, B_ = np.array([0, 1]), np.array([4, 1]), np.array([0, 3]), np.array([2, 3])\n",
    "LEFT, RIGHT, UP , DOWN = np.array([0, -1]), np.array([0, 1]), np.array([-1, 0]), \\\n",
    "                        np.array([1, 0]) \n",
    "A_REWARD = +5.0\n",
    "B_REWARD = +10.0\n",
    "GAMMA = 0.9 \n",
    "Pi_as = 0.25\n",
    "ITERATIONS = 10000\n",
    "ACTIONS = [LEFT, RIGHT , UP , DOWN]"
   ]
  },
  {
   "cell_type": "code",
   "execution_count": 20,
   "metadata": {},
   "outputs": [],
   "source": [
    "def get_reward(location):\n",
    "    if location == A:\n",
    "        return A_REWARD\n",
    "    if location == B:\n",
    "        return B_REWARD\n",
    "    \n",
    "    if location[0] >= GRID_DIM or location[1] < 0:\n",
    "        return -1\n",
    "    \n",
    "    else:\n",
    "        return 0\n",
    "def get_state_reward(cur_state, action):\n",
    "    if cur_state[0] == A[0] and cur_state[1] == A[1]:\n",
    "        return A_, A_REWARD\n",
    "    if cur_state[0] == B[0] and cur_state[1] == B[1]:\n",
    "        return B_, B_REWARD\n",
    "    \n",
    "    n_loc = cur_state + action\n",
    "    if n_loc[0] >= GRID_DIM or n_loc[0] < 0 or n_loc[1] >= GRID_DIM or n_loc[1] < 0:\n",
    "        return cur_state, -1\n",
    "    else:\n",
    "        return n_loc, 0"
   ]
  },
  {
   "cell_type": "code",
   "execution_count": 53,
   "metadata": {},
   "outputs": [],
   "source": [
    "v_pi = np.zeros((GRID_DIM, GRID_DIM))\n",
    "count = 0\n",
    "for i in range(ITERATIONS):\n",
    "    v_pi_ = np.zeros((GRID_DIM, GRID_DIM))\n",
    "    for i in range(GRID_DIM):\n",
    "        for j in range(GRID_DIM):\n",
    "            for act in ACTIONS:\n",
    "                cur_state = np.array([i, j])\n",
    "                (n_i, n_j), reward = get_state_reward(cur_state, act)\n",
    "                # equation 3.12\n",
    "                v_pi_[i, j] += Pi_as * (reward + GAMMA * v_pi[n_i, n_j])\n",
    "    count += 1\n",
    "    if np.sum(np.abs(v_pi - v_pi_)) < 1e-4:\n",
    "        break\n",
    "    v_pi = v_pi_\n",
    "                \n",
    "                \n",
    "    "
   ]
  },
  {
   "cell_type": "code",
   "execution_count": 55,
   "metadata": {},
   "outputs": [
    {
     "data": {
      "text/plain": [
       "(array([[ 0.64868176,  3.70025932,  4.59719646, 10.8967997 ,  4.41997345],\n",
       "        [ 0.10760982,  1.43198895,  2.34882358,  3.68367012,  2.12978903],\n",
       "        [-0.5989231 ,  0.20768425,  0.72634405,  0.99644055,  0.3433944 ],\n",
       "        [-1.26715978, -0.6363871 , -0.32476894, -0.32479829, -0.83232876],\n",
       "        [-2.01825961, -1.44416093, -1.20859254, -1.28290527, -1.77440847]]),\n",
       " 63)"
      ]
     },
     "execution_count": 55,
     "metadata": {},
     "output_type": "execute_result"
    }
   ],
   "source": [
    "v_pi, count"
   ]
  },
  {
   "cell_type": "code",
   "execution_count": null,
   "metadata": {},
   "outputs": [],
   "source": [
    "############## method 2"
   ]
  },
  {
   "cell_type": "markdown",
   "metadata": {},
   "source": [
    "### LINEAR ALGEBRA"
   ]
  },
  {
   "cell_type": "code",
   "execution_count": 2,
   "metadata": {},
   "outputs": [],
   "source": [
    "import numpy as np"
   ]
  },
  {
   "cell_type": "code",
   "execution_count": 15,
   "metadata": {},
   "outputs": [],
   "source": [
    "GRID_DIM = 5\n",
    "GRID_SIZE = GRID_DIM * GRID_DIM\n",
    "A, A_ , B, B_ = np.array([0, 1]), np.array([4, 1]), np.array([0, 3]), np.array([2, 3])\n",
    "LEFT, RIGHT, UP , DOWN = np.array([0, -1]), np.array([0, 1]), np.array([-1, 0]), \\\n",
    "                        np.array([1, 0]) \n",
    "A_REWARD = +10.0\n",
    "B_REWARD = +5.0\n",
    "GAMMA = 0.9 \n",
    "Pi_as = 0.25\n",
    "ITERATIONS = 10000\n",
    "ACTIONS = [LEFT, RIGHT , UP , DOWN]"
   ]
  },
  {
   "cell_type": "code",
   "execution_count": 4,
   "metadata": {},
   "outputs": [],
   "source": [
    "def get_value(i, j):\n",
    "    reward = 0.0\n",
    "    for action in ACTIONS:\n",
    "        cur_location = np.array([i, j]) \n",
    "        next_location = cur_location +  action\n",
    "        reward += get_reward(cur_location, next_location)\n",
    "    return Pi_as * reward "
   ]
  },
  {
   "cell_type": "code",
   "execution_count": 5,
   "metadata": {},
   "outputs": [],
   "source": [
    "def get_reward(location, n_location):\n",
    "    if location[0] == A[0] and location[1] == A[1]:\n",
    "        return A_REWARD\n",
    "    if location[0] == B[0] and location[1] == B[1]:\n",
    "        return B_REWARD\n",
    "    \n",
    "    if n_location[0] >= GRID_DIM or n_location[1] < 0:\n",
    "        return -1\n",
    "    else:\n",
    "        return 0"
   ]
  },
  {
   "cell_type": "code",
   "execution_count": 16,
   "metadata": {},
   "outputs": [
    {
     "name": "stdout",
     "output_type": "stream",
     "text": [
      "(25,)\n"
     ]
    },
    {
     "data": {
      "text/plain": [
       "array([-0.25, 10.  ,  0.  ,  5.  ,  0.  , -0.25,  0.  ,  0.  ,  0.  ,\n",
       "        0.  , -0.25,  0.  ,  0.  ,  0.  ,  0.  , -0.25,  0.  ,  0.  ,\n",
       "        0.  ,  0.  , -0.5 , -0.25, -0.25, -0.25, -0.25])"
      ]
     },
     "execution_count": 16,
     "metadata": {},
     "output_type": "execute_result"
    }
   ],
   "source": [
    "b  = []\n",
    "for i in range(GRID_DIM):\n",
    "    for j in range(GRID_DIM):\n",
    "        \n",
    "        b.append(get_value(i, j))\n",
    "b =  np.array(b)\n",
    "print(b.shape)\n",
    "b"
   ]
  },
  {
   "cell_type": "code",
   "execution_count": 17,
   "metadata": {},
   "outputs": [],
   "source": [
    "def get_state_reward(cur_state, action):\n",
    "    if cur_state[0] == A[0] and cur_state[1] == A[1]:\n",
    "        return A_, A_REWARD\n",
    "    if cur_state[0] == B[0] and cur_state[1] == B[1]:\n",
    "        return B_, B_REWARD\n",
    "    \n",
    "    n_loc = cur_state + action\n",
    "    if n_loc[0] >= GRID_DIM or n_loc[0] < 0 or n_loc[1] >= GRID_DIM or n_loc[1] < 0:\n",
    "        return cur_state, -1\n",
    "    else:\n",
    "        return n_loc, 0"
   ]
  },
  {
   "cell_type": "code",
   "execution_count": 42,
   "metadata": {},
   "outputs": [],
   "source": [
    "ACTIONS = [LEFT, RIGHT , UP , DOWN]\n",
    "b = np.zeros(25)"
   ]
  },
  {
   "cell_type": "code",
   "execution_count": 43,
   "metadata": {},
   "outputs": [],
   "source": [
    "a_mat = np.zeros((GRID_DIM*GRID_DIM, GRID_DIM*GRID_DIM))\n",
    "GAMMA = 0.9\n",
    "for i in range(GRID_DIM):\n",
    "    \n",
    "    for  j in range(GRID_DIM):\n",
    "        \n",
    "        for index, act in enumerate(ACTIONS):\n",
    "                cur_loc  = np.array([i,j])\n",
    "                cur_index = i*5 + j\n",
    "                next_loc, reward = get_state_reward(cur_loc, act)\n",
    "                index_ = next_loc[0] * 5 + next_loc[1]\n",
    "                b[cur_index] += reward * Pi_as\n",
    "                a_mat[cur_index, index_] += (-GAMMA *  Pi_as)\n",
    "                        # general case\n",
    "for i in range(GRID_DIM*GRID_DIM):\n",
    "    for j in range(GRID_DIM*GRID_DIM):\n",
    "        if i == j:\n",
    "            a_mat[i,j] += 1.\n",
    "#         else:\n",
    "#             a_mat[i, j] = -GAMMA * Pi_as"
   ]
  },
  {
   "cell_type": "code",
   "execution_count": 44,
   "metadata": {},
   "outputs": [
    {
     "data": {
      "text/plain": [
       "array([-0.5 , 10.  , -0.25,  5.  , -0.5 , -0.25,  0.  ,  0.  ,  0.  ,\n",
       "       -0.25, -0.25,  0.  ,  0.  ,  0.  , -0.25, -0.25,  0.  ,  0.  ,\n",
       "        0.  , -0.25, -0.5 , -0.25, -0.25, -0.25, -0.5 ])"
      ]
     },
     "execution_count": 44,
     "metadata": {},
     "output_type": "execute_result"
    }
   ],
   "source": [
    "b"
   ]
  },
  {
   "cell_type": "code",
   "execution_count": 45,
   "metadata": {},
   "outputs": [
    {
     "name": "stdout",
     "output_type": "stream",
     "text": [
      "[[ 3.3  8.8  4.4  5.3  1.5]\n",
      " [ 1.5  3.   2.3  1.9  0.5]\n",
      " [ 0.1  0.7  0.7  0.4 -0.4]\n",
      " [-1.  -0.4 -0.4 -0.6 -1.2]\n",
      " [-1.9 -1.3 -1.2 -1.4 -2. ]]\n"
     ]
    }
   ],
   "source": [
    "y = np.linalg.solve(a_mat, b)\n",
    "print(np.round(y, decimals=1).reshape(5, 5))"
   ]
  },
  {
   "cell_type": "code",
   "execution_count": null,
   "metadata": {},
   "outputs": [],
   "source": []
  },
  {
   "cell_type": "code",
   "execution_count": null,
   "metadata": {},
   "outputs": [],
   "source": []
  }
 ],
 "metadata": {
  "kernelspec": {
   "display_name": "Python 3",
   "language": "python",
   "name": "python3"
  },
  "language_info": {
   "codemirror_mode": {
    "name": "ipython",
    "version": 3
   },
   "file_extension": ".py",
   "mimetype": "text/x-python",
   "name": "python",
   "nbconvert_exporter": "python",
   "pygments_lexer": "ipython3",
   "version": "3.7.3"
  }
 },
 "nbformat": 4,
 "nbformat_minor": 2
}

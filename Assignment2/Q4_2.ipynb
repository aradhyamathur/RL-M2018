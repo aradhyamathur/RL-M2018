{
 "cells": [
  {
   "cell_type": "code",
   "execution_count": 31,
   "metadata": {},
   "outputs": [],
   "source": [
    "import numpy as np\n",
    "import sys\n",
    "np.set_printoptions(threshold=sys.maxsize)"
   ]
  },
  {
   "cell_type": "code",
   "execution_count": 32,
   "metadata": {},
   "outputs": [],
   "source": [
    "GRID_DIM = 5\n",
    "GRID_SIZE = GRID_DIM * GRID_DIM\n",
    "A, A_ , B, B_ = np.array([0, 1]), np.array([4, 1]), np.array([0, 3]), np.array([2, 3])\n",
    "LEFT, RIGHT, UP , DOWN = np.array([0, -1]), np.array([0, 1]), np.array([-1, 0]), \\\n",
    "                        np.array([1, 0]) \n",
    "A_REWARD = +10.0\n",
    "B_REWARD = +5.0\n",
    "GAMMA = 0.9 \n",
    "Pi_as = 0.25\n",
    "ITERATIONS = 10000\n",
    "ACTIONS = [LEFT, RIGHT , UP , DOWN]\n",
    "\n",
    "def get_value(i, j):\n",
    "    reward = 0.0\n",
    "    for action in ACTIONS:\n",
    "        cur_location = np.array([i, j]) \n",
    "        next_location = cur_location +  action\n",
    "        reward += get_reward(cur_location, next_location)\n",
    "    return Pi_as * reward\n",
    "def get_reward(location, n_location):\n",
    "    if location[0] == A[0] and location[1] == A[1]:\n",
    "        return A_REWARD\n",
    "    if location[0] == B[0] and location[1] == B[1]:\n",
    "        return B_REWARD\n",
    "    \n",
    "    if n_location[0] >= GRID_DIM or n_location[1] < 0:\n",
    "        return -1\n",
    "    else:\n",
    "        return 0\n",
    "def get_state_reward(cur_state, action):\n",
    "    if cur_state[0] == A[0] and cur_state[1] == A[1]:\n",
    "        return A_, A_REWARD\n",
    "    if cur_state[0] == B[0] and cur_state[1] == B[1]:\n",
    "        return B_, B_REWARD\n",
    "    \n",
    "    n_loc = cur_state + action\n",
    "    if n_loc[0] >= GRID_DIM or n_loc[0] < 0 or n_loc[1] >= GRID_DIM or n_loc[1] < 0:\n",
    "        return cur_state, -1\n",
    "    else:\n",
    "        return n_loc, 0"
   ]
  },
  {
   "cell_type": "code",
   "execution_count": 33,
   "metadata": {},
   "outputs": [],
   "source": [
    "b = []\n",
    "for i in range(GRID_DIM):\n",
    "    for j in range(GRID_DIM):\n",
    "        for action in ACTIONS:\n",
    "            b.append(get_reward((i,j), action))\n",
    "b = -np.array(b)"
   ]
  },
  {
   "cell_type": "code",
   "execution_count": 34,
   "metadata": {},
   "outputs": [],
   "source": [
    "a_mat = np.zeros((GRID_DIM*GRID_DIM*len(ACTIONS), GRID_DIM*GRID_DIM)) \n",
    "\n",
    "j = 0\n",
    "for i in range(0,GRID_DIM*GRID_DIM*len(ACTIONS),len(ACTIONS)):\n",
    "    for k in range(len(ACTIONS)):        \n",
    "        a_mat[i+k][j] = -1\n",
    "    j+=1\n",
    "    if j == 25:\n",
    "        break\n",
    "        \n",
    "for i in range(GRID_DIM):\n",
    "    for j in range(GRID_DIM):\n",
    "        for action_index, action in enumerate(ACTIONS):\n",
    "            cur_loc = np.array([i,j])\n",
    "            st, rew = get_state_reward(cur_loc, action)\n",
    "            cur_row = i * GRID_DIM * len(ACTIONS)\n",
    "            cur_row += j * len(ACTIONS)+ action_index\n",
    "            cur_col = st[0]*GRID_DIM + st[1]\n",
    "            a_mat[cur_row, cur_col] += GAMMA\n",
    "    "
   ]
  },
  {
   "cell_type": "code",
   "execution_count": 35,
   "metadata": {},
   "outputs": [],
   "source": [
    "import scipy.optimize as opt"
   ]
  },
  {
   "cell_type": "code",
   "execution_count": 36,
   "metadata": {},
   "outputs": [
    {
     "name": "stdout",
     "output_type": "stream",
     "text": [
      "(100, 25) (100,)\n",
      "[  1.  -0.  -0.  -0. -10. -10. -10. -10.   1.  -0.  -0.  -0.  -5.  -5.\n",
      "  -5.  -5.   1.  -0.  -0.  -0.   1.  -0.  -0.  -0.   1.  -0.  -0.  -0.\n",
      "   1.  -0.  -0.  -0.   1.  -0.  -0.  -0.   1.  -0.  -0.  -0.   1.  -0.\n",
      "  -0.  -0.   1.  -0.  -0.  -0.   1.  -0.  -0.  -0.   1.  -0.  -0.  -0.\n",
      "   1.  -0.  -0.  -0.   1.  -0.  -0.  -0.   1.  -0.  -0.  -0.   1.  -0.\n",
      "  -0.  -0.   1.  -0.  -0.  -0.   1.  -0.  -0.  -0.   1.  -0.  -0.  -0.\n",
      "   1.  -0.  -0.  -0.   1.  -0.  -0.  -0.   1.  -0.  -0.  -0.   1.  -0.\n",
      "  -0.  -0.]\n"
     ]
    }
   ],
   "source": [
    "print(a_mat.shape, b.shape)\n",
    "print(b)"
   ]
  },
  {
   "cell_type": "code",
   "execution_count": 40,
   "metadata": {},
   "outputs": [
    {
     "name": "stdout",
     "output_type": "stream",
     "text": [
      "Vpi\n",
      "[[21.97748529 24.4194281  20.97748529 18.4501845  15.60516605]\n",
      " [19.77973676 21.97748529 18.87973676 16.60516605 14.04464945]\n",
      " [17.80176308 19.77973676 16.99176308 14.94464945 12.6401845 ]\n",
      " [16.02158677 17.80176308 15.29258677 13.4501845  11.37616605]\n",
      " [14.4194281  16.02158677 13.7633281  12.10516605 10.23854945]]\n"
     ]
    }
   ],
   "source": [
    "obj = np.ones((GRID_DIM*GRID_DIM))\n",
    "x = opt.linprog(obj, a_mat, b)\n",
    "\n",
    "# print(np.round(x['x'], decimals=1).reshape(5,5))\n",
    "\n",
    "v_pi_star = x['x']\n",
    "print('Vpi')\n",
    "print(v_pi_star.reshape(5,5))\n",
    "# print(x)"
   ]
  },
  {
   "cell_type": "code",
   "execution_count": 38,
   "metadata": {},
   "outputs": [],
   "source": [
    "pi_ = np.zeros((GRID_DIM, GRID_DIM))\n",
    "v_pi_star  = np.around(v_pi_star.reshape(5,5), decimals=1)\n",
    "vp = []\n",
    "for i in range(GRID_DIM):\n",
    "    for j in range(GRID_DIM):\n",
    "        values = []\n",
    "        act = []\n",
    "        for action in ACTIONS:\n",
    "            st, rew = get_state_reward(np.array([i,j]), action)\n",
    "            val = v_pi_star[st[0], st[1]]\n",
    "            values.append(np.around(val, decimals=1))\n",
    "        max_value = max(values)\n",
    "        \n",
    "        for i, value in enumerate(values):\n",
    "            if value == max_value:\n",
    "                 act.append(i)\n",
    "        vp.append(act)\n",
    "        pi_[i, j] = np.argmax(values)\n",
    "\n",
    "        "
   ]
  },
  {
   "cell_type": "code",
   "execution_count": 39,
   "metadata": {},
   "outputs": [
    {
     "name": "stdout",
     "output_type": "stream",
     "text": [
      "\n",
      "[1] | [2] | [0] | [0] | [0] | \n",
      "[1, 2] | [2] | [0] | [0] | [0] | \n",
      "[1, 2] | [2] | [0] | [0] | [0] | \n",
      "[1, 2] | [2] | [0] | [0] | [0] | \n",
      "[1, 2] | [2] | [0] | [0] | [0] | "
     ]
    }
   ],
   "source": [
    "for i in range(GRID_DIM):\n",
    "    print()\n",
    "    for j in range(GRID_DIM):\n",
    "        print(vp[i*GRID_DIM + j], '|' , end =\" \")"
   ]
  }
 ],
 "metadata": {
  "kernelspec": {
   "display_name": "Python 3",
   "language": "python",
   "name": "python3"
  },
  "language_info": {
   "codemirror_mode": {
    "name": "ipython",
    "version": 3
   },
   "file_extension": ".py",
   "mimetype": "text/x-python",
   "name": "python",
   "nbconvert_exporter": "python",
   "pygments_lexer": "ipython3",
   "version": "3.7.3"
  }
 },
 "nbformat": 4,
 "nbformat_minor": 2
}

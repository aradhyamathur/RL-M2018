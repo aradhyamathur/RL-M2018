{
 "cells": [
  {
   "cell_type": "code",
   "execution_count": 1,
   "metadata": {},
   "outputs": [],
   "source": [
    "import numpy as np\n",
    "import math"
   ]
  },
  {
   "cell_type": "code",
   "execution_count": 23,
   "metadata": {},
   "outputs": [
    {
     "name": "stdout",
     "output_type": "stream",
     "text": [
      "[-5 -4 -3 -2 -1  0  1  2  3  4  5]\n"
     ]
    }
   ],
   "source": [
    "cost_to_move = -2\n",
    "reward_value = +10\n",
    "lambda_request_loc_a = 3\n",
    "lambda_return_loc_a = 3\n",
    "lambda_request_loc_b = 4\n",
    "lambda_return_loc_b = 2\n",
    "total_cars = 10\n",
    "GRID_DIM = (total_cars+1)\n",
    "max_allowed_to_move = 5\n",
    "gamma = 0.9\n",
    "ACTIONS = np.array(list(range(-max_allowed_to_move,max_allowed_to_move+1)))\n",
    "print(ACTIONS)"
   ]
  },
  {
   "cell_type": "code",
   "execution_count": 3,
   "metadata": {},
   "outputs": [
    {
     "data": {
      "text/plain": [
       "120"
      ]
     },
     "execution_count": 3,
     "metadata": {},
     "output_type": "execute_result"
    }
   ],
   "source": [
    "def factorial(n):\n",
    "    value = 1\n",
    "    for i in range(1, n+1):\n",
    "        value *= i\n",
    "    return value\n",
    "factorial(5)"
   ]
  },
  {
   "cell_type": "code",
   "execution_count": 4,
   "metadata": {},
   "outputs": [],
   "source": [
    "def get_poisson_value(mean, num):\n",
    "#     print(num)\n",
    "    return ((mean**num)*math.exp(-mean))/factorial(num) \n"
   ]
  },
  {
   "cell_type": "code",
   "execution_count": 5,
   "metadata": {},
   "outputs": [
    {
     "data": {
      "text/plain": [
       "0.18393972058572117"
      ]
     },
     "execution_count": 5,
     "metadata": {},
     "output_type": "execute_result"
    }
   ],
   "source": [
    "get_poisson_value(1., 2)"
   ]
  },
  {
   "cell_type": "code",
   "execution_count": 9,
   "metadata": {},
   "outputs": [],
   "source": [
    "def get_state_value(V_s, cur_state, action):\n",
    "#     if action >=1:\n",
    "#         cost = (action -1) * cost_to_move\n",
    "#     else:    \n",
    "#         cost = cost_to_move * np.abs(action) #$2\n",
    "    cost = cost_to_move * np.abs(action)\n",
    "    next_state_i = cur_state[0] - action\n",
    "    next_state_j = cur_state[1] + action\n",
    "    reward = 0.0\n",
    "    if next_state_i > total_cars:\n",
    "        next_state_i = total_cars\n",
    "    if next_state_j > total_cars:\n",
    "        next_state_j = total_cars\n",
    "    reward  += cost\n",
    "    for reqa in range(max_allowed_to_move): # location a request\n",
    "        for reqb in range(max_allowed_to_move): # location b request \n",
    "            # calculate prob \n",
    "            prob_request_loc_a = get_poisson_value(lambda_request_loc_a, reqa)\n",
    "            prob_request_loc_b = get_poisson_value(lambda_request_loc_b, reqb)\n",
    "            prob_request = prob_request_loc_a * prob_request_loc_b\n",
    "            \n",
    "            loca_cars = next_state_i\n",
    "            locb_cars = next_state_j\n",
    "            \n",
    "            req_A = next_state_i\n",
    "            req_B = next_state_j\n",
    "            \n",
    "            if reqa < next_state_i:\n",
    "                req_A = reqa\n",
    "            if reqb < next_state_j:\n",
    "                req_B = reqb\n",
    "            \n",
    "            loca_cars = loca_cars - req_A\n",
    "            locb_cars = locb_cars - req_B\n",
    "            \n",
    "            \n",
    "\n",
    "            reward_req = (req_A + req_B) * reward_value # $10\n",
    "            for k in range(max_allowed_to_move): # location a return \n",
    "                for l in range(max_allowed_to_move): # location b return \n",
    "                    # calculate reward \n",
    "                    prob_return_loc_a = get_poisson_value(lambda_return_loc_a, k)\n",
    "                    prob_return_loc_b = get_poisson_value(lambda_return_loc_b, l)\n",
    "                    prob_return = prob_return_loc_a * prob_return_loc_b\n",
    "                    total_prob = prob_return * prob_request\n",
    "                    tot_cars_a = loca_cars + k\n",
    "                    tot_cars_b = locb_cars + l\n",
    "                    if tot_cars_a > total_cars:\n",
    "                        tot_cars_a = total_cars\n",
    "                    if tot_cars_b > total_cars:\n",
    "                        tot_cars_b = total_cars\n",
    "#                     if tot_cars_a > 10 and tot_cars_b > 10 :\n",
    "#                         reward_req -= 4.\n",
    "                    reward += total_prob * (reward_req + gamma*V_s[tot_cars_a, tot_cars_b])\n",
    "                    \n",
    "    \n",
    "    return reward\n",
    "#     return  [next_state_i,next_state_j], reward + cost \n",
    "    \n",
    "    # return  reward ,  prob  \n",
    "    \n",
    "    \n",
    "    "
   ]
  },
  {
   "cell_type": "code",
   "execution_count": 10,
   "metadata": {},
   "outputs": [
    {
     "name": "stdout",
     "output_type": "stream",
     "text": [
      "(11, 11)\n",
      "Iteration 0 False\n",
      "Iteration 1 False\n",
      "Iteration 2 False\n",
      "Iteration 3 False\n"
     ]
    }
   ],
   "source": [
    "V_s = np.zeros((GRID_DIM, GRID_DIM))\n",
    "print(V_s.shape)\n",
    "pi_ = np.zeros_like(V_s).astype(int)\n",
    "\n",
    "policy_stable = False\n",
    "count = 0\n",
    "while not policy_stable:\n",
    "    print('Iteration', count, policy_stable)\n",
    "    policy_stable = True\n",
    "    while True:\n",
    "        delta = 0\n",
    "        for i in range(GRID_DIM):\n",
    "            for j in range(GRID_DIM):\n",
    "                v = V_s[i,j]\n",
    "                cur_loc = np.array([i, j])\n",
    "                action = ACTIONS[pi_[i, j]]\n",
    "\n",
    "                value = get_state_value(V_s, cur_loc, action ) # calculate value to update\n",
    "                V_s[i,j] = value \n",
    "#                 print('Reward', value, 'Delta', delta)\n",
    "                delta = max(delta, abs(v - V_s[i,j]))\n",
    "#                 print(delta)\n",
    "        if delta < 1e-1:\n",
    "            break\n",
    "\n",
    "    for i in range(GRID_DIM):\n",
    "        for j in range(GRID_DIM):\n",
    "            old_action = pi_[i, j]\n",
    "            values = []\n",
    "            cur_loc = np.array([i,j])\n",
    "            for action in ACTIONS:\n",
    "                value = get_state_value(V_s, cur_loc, action)\n",
    "                values.append(value) # recalculate value \n",
    "            pi_[i,j] = ACTIONS[np.argmax(values)] # pick greedy action \n",
    "#             print(values)\n",
    "            if old_action != pi_[i, j]:\n",
    "                policy_stable = False\n",
    "    \n",
    "    count += 1\n",
    "    \n",
    "# print(V_s)\n",
    "# print(pi_)"
   ]
  },
  {
   "cell_type": "code",
   "execution_count": 11,
   "metadata": {},
   "outputs": [],
   "source": [
    "import matplotlib.pyplot as plt\n",
    "%matplotlib inline"
   ]
  },
  {
   "cell_type": "code",
   "execution_count": 12,
   "metadata": {},
   "outputs": [
    {
     "name": "stdout",
     "output_type": "stream",
     "text": [
      "[[ 0  0  0  0  0 -1 -1 -1 -2 -2 -2]\n",
      " [ 0  0  0  0  0  0  0 -1 -1 -1 -1]\n",
      " [ 0  0  0  0  0  0  0  0  0  0  0]\n",
      " [ 0  0  0  0  0  0  0  0  0  0  0]\n",
      " [ 1  1  0  0  0  0  0  0  0  0  0]\n",
      " [ 2  1  1  0  0  0  0  0  0  0  0]\n",
      " [ 2  2  1  0  0  0  0  0  0  0  0]\n",
      " [ 3  2  1  0  0  0  0  0  0  0  0]\n",
      " [ 3  2  1  0  0  0  0  0  0  0  0]\n",
      " [ 3  2  1  0  0  0  0  0  0  0  0]\n",
      " [ 3  2  1  0  0  0  0  0  0  0  0]]\n"
     ]
    }
   ],
   "source": [
    "print(pi_)"
   ]
  },
  {
   "cell_type": "code",
   "execution_count": 13,
   "metadata": {},
   "outputs": [
    {
     "data": {
      "image/png": "[encoded data removed]",
      "text/plain": [
       "<Figure size 432x288 with 1 Axes>"
      ]
     },
     "metadata": {
      "needs_background": "light"
     },
     "output_type": "display_data"
    }
   ],
   "source": [
    "plt.pcolor(pi_)\n",
    "plt.show()\n",
    "\n"
   ]
  },
  {
   "cell_type": "markdown",
   "metadata": {},
   "source": [
    "### With book changes"
   ]
  },
  {
   "cell_type": "code",
   "execution_count": 33,
   "metadata": {},
   "outputs": [],
   "source": [
    "def get_state_value(V_s, cur_state, action):\n",
    "    if action >=1:\n",
    "        cost = np.abs(action - 1) * cost_to_move\n",
    "    else:    \n",
    "        cost = cost_to_move * np.abs(action) #$2\n",
    "#     cost = cost_to_move * np.abs(action)\n",
    "    next_state_i = cur_state[0] - action\n",
    "    next_state_j = cur_state[1] + action\n",
    "    reward = 0.0\n",
    "    if next_state_i > total_cars:\n",
    "        next_state_i = total_cars\n",
    "    if next_state_j > total_cars:\n",
    "        next_state_j = total_cars\n",
    "    reward  += cost\n",
    "    for reqa in range(max_allowed_to_move): # location a request\n",
    "        for reqb in range(max_allowed_to_move): # location b request \n",
    "            # calculate prob \n",
    "            prob_request_loc_a = get_poisson_value(lambda_request_loc_a, reqa)\n",
    "            prob_request_loc_b = get_poisson_value(lambda_request_loc_b, reqb)\n",
    "            prob_request = prob_request_loc_a * prob_request_loc_b\n",
    "            \n",
    "            loca_cars = next_state_i\n",
    "            locb_cars = next_state_j\n",
    "            \n",
    "            req_A = next_state_i\n",
    "            req_B = next_state_j\n",
    "            \n",
    "            if reqa < next_state_i:\n",
    "                req_A = reqa\n",
    "            if reqb < next_state_j:\n",
    "                req_B = reqb\n",
    "            \n",
    "            loca_cars = loca_cars - req_A\n",
    "            locb_cars = locb_cars - req_B\n",
    "            \n",
    "            \n",
    "\n",
    "            reward_req = (req_A + req_B) * reward_value # $10\n",
    "            for k in range(max_allowed_to_move): # location a return \n",
    "                for l in range(max_allowed_to_move): # location b return \n",
    "                    # calculate reward \n",
    "                    prob_return_loc_a = get_poisson_value(lambda_return_loc_a, k)\n",
    "                    prob_return_loc_b = get_poisson_value(lambda_return_loc_b, l)\n",
    "                    prob_return = prob_return_loc_a * prob_return_loc_b\n",
    "                    total_prob = prob_return * prob_request\n",
    "                    tot_cars_a = loca_cars + k\n",
    "                    tot_cars_b = locb_cars + l\n",
    "                    if tot_cars_a > total_cars:\n",
    "                        tot_cars_a = total_cars\n",
    "                    if tot_cars_b > total_cars:\n",
    "                        tot_cars_b = total_cars\n",
    "                    if tot_cars_a > 10 and tot_cars_b > 10 :\n",
    "                        reward_req -= 4.\n",
    "                    reward += total_prob * (reward_req + gamma*V_s[tot_cars_a, tot_cars_b])\n",
    "                    \n",
    "    \n",
    "    return reward\n",
    "#     return  [next_state_i,next_state_j], reward + cost \n",
    "    \n",
    "    # return  reward ,  prob  \n",
    "    \n",
    "    \n",
    "    "
   ]
  },
  {
   "cell_type": "code",
   "execution_count": 34,
   "metadata": {
    "scrolled": true
   },
   "outputs": [
    {
     "name": "stdout",
     "output_type": "stream",
     "text": [
      "(11, 11)\n",
      "Iteration 0 False\n",
      "Iteration 1 False\n",
      "Iteration 2 False\n",
      "Iteration 3 False\n"
     ]
    }
   ],
   "source": [
    "V_s = np.zeros((GRID_DIM, GRID_DIM))\n",
    "print(V_s.shape)\n",
    "pi_ = np.zeros_like(V_s).astype(int)\n",
    "\n",
    "policy_stable = False\n",
    "count = 0\n",
    "while not policy_stable:\n",
    "    print('Iteration', count, policy_stable)\n",
    "    policy_stable = True\n",
    "    while True:\n",
    "        delta = 0\n",
    "        for i in range(GRID_DIM):\n",
    "            for j in range(GRID_DIM):\n",
    "                v = V_s[i,j]\n",
    "                cur_loc = np.array([i, j])\n",
    "                action = ACTIONS[pi_[i, j]]\n",
    "\n",
    "                value = get_state_value(V_s, cur_loc, action ) # calculate value to update\n",
    "                V_s[i,j] = value \n",
    "#                 print('Reward', value, 'Delta', delta)\n",
    "                delta = max(delta, abs(v - V_s[i,j]))\n",
    "#                 print(delta)\n",
    "        if delta < 1e-1:\n",
    "            break\n",
    "\n",
    "    for i in range(GRID_DIM):\n",
    "        for j in range(GRID_DIM):\n",
    "            old_action = pi_[i, j]\n",
    "            values = []\n",
    "            cur_loc = np.array([i,j])\n",
    "            for action in ACTIONS:\n",
    "                value = get_state_value(V_s, cur_loc, action)\n",
    "                values.append(value) # recalculate value \n",
    "            pi_[i,j] = ACTIONS[np.argmax(values)] # pick greedy action \n",
    "#             print(values)\n",
    "            if old_action != pi_[i, j]:\n",
    "                policy_stable = False\n",
    "    \n",
    "    count += 1"
   ]
  },
  {
   "cell_type": "code",
   "execution_count": 35,
   "metadata": {},
   "outputs": [
    {
     "data": {
      "image/png": "[encoded data removed]",
      "text/plain": [
       "<Figure size 432x288 with 1 Axes>"
      ]
     },
     "metadata": {
      "needs_background": "light"
     },
     "output_type": "display_data"
    }
   ],
   "source": [
    "plt.pcolor(pi_)\n",
    "plt.show()\n"
   ]
  },
  {
   "cell_type": "code",
   "execution_count": 37,
   "metadata": {},
   "outputs": [
    {
     "data": {
      "image/png": "[encoded data removed]",
      "text/plain": [
       "<Figure size 432x288 with 1 Axes>"
      ]
     },
     "metadata": {
      "needs_background": "light"
     },
     "output_type": "display_data"
    }
   ],
   "source": [
    "from mpl_toolkits.mplot3d import Axes3D\n",
    "fig = plt.figure()\n",
    "ax = fig.gca( projection='3d')\n",
    "for i in range(total_cars+1):\n",
    "    for j in range(total_cars+1):\n",
    "        ax.scatter(i, j , V_s[i, j], color='r')\n",
    "\n",
    "plt.show()"
   ]
  }
 ],
 "metadata": {
  "kernelspec": {
   "display_name": "Python 3",
   "language": "python",
   "name": "python3"
  },
  "language_info": {
   "codemirror_mode": {
    "name": "ipython",
    "version": 3
   },
   "file_extension": ".py",
   "mimetype": "text/x-python",
   "name": "python",
   "nbconvert_exporter": "python",
   "pygments_lexer": "ipython3",
   "version": "3.7.3"
  }
 },
 "nbformat": 4,
 "nbformat_minor": 2
}
